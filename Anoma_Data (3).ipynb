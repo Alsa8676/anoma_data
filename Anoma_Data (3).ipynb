{
 "cells": [
  {
   "cell_type": "code",
   "execution_count": 1,
   "id": "ca998e61-a6b1-4428-9316-bd966b746c21",
   "metadata": {},
   "outputs": [],
   "source": [
    "# 1. Import necessary libraries and load the dataset:\n",
    "import pandas as pd\n",
    "import numpy as np\n",
    "import matplotlib.pyplot as plt\n",
    "import seaborn as sns\n",
    "from sklearn.model_selection import train_test_split\n",
    "from sklearn.preprocessing import StandardScaler\n",
    "from sklearn.ensemble import RandomForestClassifier\n",
    "from sklearn.metrics import classification_report, confusion_matrix, accuracy_score\n",
    "from sklearn.model_selection import GridSearchCV\n",
    "from imblearn.over_sampling import SMOTE\n",
    "from sklearn.impute import SimpleImputer\n",
    "from sklearn.pipeline import Pipeline\n",
    "from datetime import datetime"
   ]
  },
  {
   "cell_type": "code",
   "execution_count": 2,
   "id": "363b259b-0166-4a66-a76d-0cc8a68d8cea",
   "metadata": {},
   "outputs": [],
   "source": [
    "# 2. Load the dataset\n",
    "df = pd.read_csv('C:/Users/Admin/OneDrive/Desktop/Data Science/AnomaData - Capstone.csv')"
   ]
  },
  {
   "cell_type": "code",
   "execution_count": 3,
   "id": "a392dd3c-fcfe-496a-ba7c-175d00b6289c",
   "metadata": {},
   "outputs": [
    {
     "name": "stdout",
     "output_type": "stream",
     "text": [
      "<class 'pandas.core.frame.DataFrame'>\n",
      "RangeIndex: 18398 entries, 0 to 18397\n",
      "Data columns (total 62 columns):\n",
      " #   Column  Non-Null Count  Dtype  \n",
      "---  ------  --------------  -----  \n",
      " 0   time    18398 non-null  object \n",
      " 1   y       18398 non-null  int64  \n",
      " 2   x1      18398 non-null  float64\n",
      " 3   x2      18398 non-null  float64\n",
      " 4   x3      18398 non-null  float64\n",
      " 5   x4      18398 non-null  float64\n",
      " 6   x5      18398 non-null  float64\n",
      " 7   x6      18398 non-null  float64\n",
      " 8   x7      18398 non-null  float64\n",
      " 9   x8      18398 non-null  float64\n",
      " 10  x9      18398 non-null  float64\n",
      " 11  x10     18398 non-null  float64\n",
      " 12  x11     18398 non-null  float64\n",
      " 13  x12     18398 non-null  float64\n",
      " 14  x13     18398 non-null  float64\n",
      " 15  x14     18398 non-null  float64\n",
      " 16  x15     18398 non-null  float64\n",
      " 17  x16     18398 non-null  float64\n",
      " 18  x17     18398 non-null  float64\n",
      " 19  x18     18398 non-null  float64\n",
      " 20  x19     18398 non-null  float64\n",
      " 21  x20     18398 non-null  float64\n",
      " 22  x21     18398 non-null  float64\n",
      " 23  x22     18398 non-null  float64\n",
      " 24  x23     18398 non-null  float64\n",
      " 25  x24     18398 non-null  float64\n",
      " 26  x25     18398 non-null  float64\n",
      " 27  x26     18398 non-null  float64\n",
      " 28  x27     18398 non-null  float64\n",
      " 29  x28     18398 non-null  int64  \n",
      " 30  x29     18398 non-null  float64\n",
      " 31  x30     18398 non-null  float64\n",
      " 32  x31     18398 non-null  float64\n",
      " 33  x32     18398 non-null  float64\n",
      " 34  x33     18398 non-null  float64\n",
      " 35  x34     18398 non-null  float64\n",
      " 36  x35     18398 non-null  float64\n",
      " 37  x36     18398 non-null  float64\n",
      " 38  x37     18398 non-null  float64\n",
      " 39  x38     18398 non-null  float64\n",
      " 40  x39     18398 non-null  float64\n",
      " 41  x40     18398 non-null  float64\n",
      " 42  x41     18398 non-null  float64\n",
      " 43  x42     18398 non-null  float64\n",
      " 44  x43     18398 non-null  float64\n",
      " 45  x44     18398 non-null  float64\n",
      " 46  x45     18398 non-null  float64\n",
      " 47  x46     18398 non-null  float64\n",
      " 48  x47     18398 non-null  float64\n",
      " 49  x48     18398 non-null  float64\n",
      " 50  x49     18398 non-null  float64\n",
      " 51  x50     18398 non-null  float64\n",
      " 52  x51     18398 non-null  float64\n",
      " 53  x52     18398 non-null  float64\n",
      " 54  x54     18398 non-null  float64\n",
      " 55  x55     18398 non-null  float64\n",
      " 56  x56     18398 non-null  float64\n",
      " 57  x57     18398 non-null  float64\n",
      " 58  x58     18398 non-null  float64\n",
      " 59  x59     18398 non-null  float64\n",
      " 60  x60     18398 non-null  float64\n",
      " 61  y.1     18398 non-null  int64  \n",
      "dtypes: float64(58), int64(3), object(1)\n",
      "memory usage: 8.7+ MB\n"
     ]
    }
   ],
   "source": [
    "# 3. Exploratory Data Analysis (EDA):\n",
    "df.info()"
   ]
  },
  {
   "cell_type": "code",
   "execution_count": 4,
   "id": "6fcab7e4-3ee6-4d0a-9723-2a1644eb8678",
   "metadata": {},
   "outputs": [
    {
     "data": {
      "text/html": [
       "<div>\n",
       "<style scoped>\n",
       "    .dataframe tbody tr th:only-of-type {\n",
       "        vertical-align: middle;\n",
       "    }\n",
       "\n",
       "    .dataframe tbody tr th {\n",
       "        vertical-align: top;\n",
       "    }\n",
       "\n",
       "    .dataframe thead th {\n",
       "        text-align: right;\n",
       "    }\n",
       "</style>\n",
       "<table border=\"1\" class=\"dataframe\">\n",
       "  <thead>\n",
       "    <tr style=\"text-align: right;\">\n",
       "      <th></th>\n",
       "      <th>y</th>\n",
       "      <th>x1</th>\n",
       "      <th>x2</th>\n",
       "      <th>x3</th>\n",
       "      <th>x4</th>\n",
       "      <th>x5</th>\n",
       "      <th>x6</th>\n",
       "      <th>x7</th>\n",
       "      <th>x8</th>\n",
       "      <th>x9</th>\n",
       "      <th>...</th>\n",
       "      <th>x51</th>\n",
       "      <th>x52</th>\n",
       "      <th>x54</th>\n",
       "      <th>x55</th>\n",
       "      <th>x56</th>\n",
       "      <th>x57</th>\n",
       "      <th>x58</th>\n",
       "      <th>x59</th>\n",
       "      <th>x60</th>\n",
       "      <th>y.1</th>\n",
       "    </tr>\n",
       "  </thead>\n",
       "  <tbody>\n",
       "    <tr>\n",
       "      <th>count</th>\n",
       "      <td>18398.000000</td>\n",
       "      <td>18398.000000</td>\n",
       "      <td>18398.000000</td>\n",
       "      <td>18398.000000</td>\n",
       "      <td>18398.000000</td>\n",
       "      <td>18398.000000</td>\n",
       "      <td>18398.000000</td>\n",
       "      <td>18398.000000</td>\n",
       "      <td>18398.000000</td>\n",
       "      <td>18398.000000</td>\n",
       "      <td>...</td>\n",
       "      <td>18398.000000</td>\n",
       "      <td>18398.000000</td>\n",
       "      <td>18398.000000</td>\n",
       "      <td>18398.000000</td>\n",
       "      <td>18398.000000</td>\n",
       "      <td>18398.000000</td>\n",
       "      <td>18398.000000</td>\n",
       "      <td>18398.000000</td>\n",
       "      <td>18398.000000</td>\n",
       "      <td>18398.000000</td>\n",
       "    </tr>\n",
       "    <tr>\n",
       "      <th>mean</th>\n",
       "      <td>0.006740</td>\n",
       "      <td>0.011824</td>\n",
       "      <td>0.157986</td>\n",
       "      <td>0.569300</td>\n",
       "      <td>-9.958345</td>\n",
       "      <td>0.006518</td>\n",
       "      <td>2.387533</td>\n",
       "      <td>0.001647</td>\n",
       "      <td>-0.004125</td>\n",
       "      <td>-0.003056</td>\n",
       "      <td>...</td>\n",
       "      <td>-3.357339</td>\n",
       "      <td>0.380519</td>\n",
       "      <td>0.173708</td>\n",
       "      <td>2.379154</td>\n",
       "      <td>9.234953</td>\n",
       "      <td>0.233493</td>\n",
       "      <td>-0.001861</td>\n",
       "      <td>-0.061522</td>\n",
       "      <td>0.001258</td>\n",
       "      <td>0.001033</td>\n",
       "    </tr>\n",
       "    <tr>\n",
       "      <th>std</th>\n",
       "      <td>0.081822</td>\n",
       "      <td>0.742875</td>\n",
       "      <td>4.939762</td>\n",
       "      <td>5.937178</td>\n",
       "      <td>131.033712</td>\n",
       "      <td>0.634054</td>\n",
       "      <td>37.104012</td>\n",
       "      <td>0.108870</td>\n",
       "      <td>0.075460</td>\n",
       "      <td>0.156047</td>\n",
       "      <td>...</td>\n",
       "      <td>348.256716</td>\n",
       "      <td>6.211598</td>\n",
       "      <td>3.029516</td>\n",
       "      <td>67.940694</td>\n",
       "      <td>81.274103</td>\n",
       "      <td>2.326838</td>\n",
       "      <td>0.048732</td>\n",
       "      <td>10.394085</td>\n",
       "      <td>0.004721</td>\n",
       "      <td>0.032120</td>\n",
       "    </tr>\n",
       "    <tr>\n",
       "      <th>min</th>\n",
       "      <td>0.000000</td>\n",
       "      <td>-3.787279</td>\n",
       "      <td>-17.316550</td>\n",
       "      <td>-18.198509</td>\n",
       "      <td>-322.781610</td>\n",
       "      <td>-1.623988</td>\n",
       "      <td>-279.408440</td>\n",
       "      <td>-0.429273</td>\n",
       "      <td>-0.451141</td>\n",
       "      <td>-0.120087</td>\n",
       "      <td>...</td>\n",
       "      <td>-3652.989000</td>\n",
       "      <td>-187.943440</td>\n",
       "      <td>-8.210370</td>\n",
       "      <td>-230.574030</td>\n",
       "      <td>-269.039500</td>\n",
       "      <td>-12.640370</td>\n",
       "      <td>-0.149790</td>\n",
       "      <td>-100.810500</td>\n",
       "      <td>-0.012229</td>\n",
       "      <td>0.000000</td>\n",
       "    </tr>\n",
       "    <tr>\n",
       "      <th>25%</th>\n",
       "      <td>0.000000</td>\n",
       "      <td>-0.405681</td>\n",
       "      <td>-2.158235</td>\n",
       "      <td>-3.537054</td>\n",
       "      <td>-111.378372</td>\n",
       "      <td>-0.446787</td>\n",
       "      <td>-24.345268</td>\n",
       "      <td>-0.058520</td>\n",
       "      <td>-0.051043</td>\n",
       "      <td>-0.059966</td>\n",
       "      <td>...</td>\n",
       "      <td>29.984624</td>\n",
       "      <td>-3.672684</td>\n",
       "      <td>0.487780</td>\n",
       "      <td>-40.050046</td>\n",
       "      <td>-45.519149</td>\n",
       "      <td>-1.598804</td>\n",
       "      <td>0.000470</td>\n",
       "      <td>0.295023</td>\n",
       "      <td>-0.001805</td>\n",
       "      <td>0.000000</td>\n",
       "    </tr>\n",
       "    <tr>\n",
       "      <th>50%</th>\n",
       "      <td>0.000000</td>\n",
       "      <td>0.128245</td>\n",
       "      <td>-0.075505</td>\n",
       "      <td>-0.190683</td>\n",
       "      <td>-14.881585</td>\n",
       "      <td>-0.120745</td>\n",
       "      <td>10.528435</td>\n",
       "      <td>-0.009338</td>\n",
       "      <td>-0.000993</td>\n",
       "      <td>-0.030057</td>\n",
       "      <td>...</td>\n",
       "      <td>29.984624</td>\n",
       "      <td>0.294846</td>\n",
       "      <td>0.702299</td>\n",
       "      <td>17.471317</td>\n",
       "      <td>1.438806</td>\n",
       "      <td>0.085826</td>\n",
       "      <td>0.012888</td>\n",
       "      <td>0.734591</td>\n",
       "      <td>0.000710</td>\n",
       "      <td>0.000000</td>\n",
       "    </tr>\n",
       "    <tr>\n",
       "      <th>75%</th>\n",
       "      <td>0.000000</td>\n",
       "      <td>0.421222</td>\n",
       "      <td>2.319297</td>\n",
       "      <td>3.421223</td>\n",
       "      <td>92.199134</td>\n",
       "      <td>0.325152</td>\n",
       "      <td>32.172974</td>\n",
       "      <td>0.060515</td>\n",
       "      <td>0.038986</td>\n",
       "      <td>0.001990</td>\n",
       "      <td>...</td>\n",
       "      <td>29.984624</td>\n",
       "      <td>5.109543</td>\n",
       "      <td>2.675751</td>\n",
       "      <td>44.093387</td>\n",
       "      <td>63.209681</td>\n",
       "      <td>2.222118</td>\n",
       "      <td>0.020991</td>\n",
       "      <td>1.266506</td>\n",
       "      <td>0.004087</td>\n",
       "      <td>0.000000</td>\n",
       "    </tr>\n",
       "    <tr>\n",
       "      <th>max</th>\n",
       "      <td>1.000000</td>\n",
       "      <td>3.054156</td>\n",
       "      <td>16.742105</td>\n",
       "      <td>15.900116</td>\n",
       "      <td>334.694098</td>\n",
       "      <td>4.239385</td>\n",
       "      <td>96.060768</td>\n",
       "      <td>1.705590</td>\n",
       "      <td>0.788826</td>\n",
       "      <td>4.060033</td>\n",
       "      <td>...</td>\n",
       "      <td>40.152348</td>\n",
       "      <td>14.180588</td>\n",
       "      <td>6.637265</td>\n",
       "      <td>287.252017</td>\n",
       "      <td>252.147455</td>\n",
       "      <td>6.922008</td>\n",
       "      <td>0.067249</td>\n",
       "      <td>6.985460</td>\n",
       "      <td>0.020510</td>\n",
       "      <td>1.000000</td>\n",
       "    </tr>\n",
       "  </tbody>\n",
       "</table>\n",
       "<p>8 rows × 61 columns</p>\n",
       "</div>"
      ],
      "text/plain": [
       "                  y            x1            x2            x3            x4  \\\n",
       "count  18398.000000  18398.000000  18398.000000  18398.000000  18398.000000   \n",
       "mean       0.006740      0.011824      0.157986      0.569300     -9.958345   \n",
       "std        0.081822      0.742875      4.939762      5.937178    131.033712   \n",
       "min        0.000000     -3.787279    -17.316550    -18.198509   -322.781610   \n",
       "25%        0.000000     -0.405681     -2.158235     -3.537054   -111.378372   \n",
       "50%        0.000000      0.128245     -0.075505     -0.190683    -14.881585   \n",
       "75%        0.000000      0.421222      2.319297      3.421223     92.199134   \n",
       "max        1.000000      3.054156     16.742105     15.900116    334.694098   \n",
       "\n",
       "                 x5            x6            x7            x8            x9  \\\n",
       "count  18398.000000  18398.000000  18398.000000  18398.000000  18398.000000   \n",
       "mean       0.006518      2.387533      0.001647     -0.004125     -0.003056   \n",
       "std        0.634054     37.104012      0.108870      0.075460      0.156047   \n",
       "min       -1.623988   -279.408440     -0.429273     -0.451141     -0.120087   \n",
       "25%       -0.446787    -24.345268     -0.058520     -0.051043     -0.059966   \n",
       "50%       -0.120745     10.528435     -0.009338     -0.000993     -0.030057   \n",
       "75%        0.325152     32.172974      0.060515      0.038986      0.001990   \n",
       "max        4.239385     96.060768      1.705590      0.788826      4.060033   \n",
       "\n",
       "       ...           x51           x52           x54           x55  \\\n",
       "count  ...  18398.000000  18398.000000  18398.000000  18398.000000   \n",
       "mean   ...     -3.357339      0.380519      0.173708      2.379154   \n",
       "std    ...    348.256716      6.211598      3.029516     67.940694   \n",
       "min    ...  -3652.989000   -187.943440     -8.210370   -230.574030   \n",
       "25%    ...     29.984624     -3.672684      0.487780    -40.050046   \n",
       "50%    ...     29.984624      0.294846      0.702299     17.471317   \n",
       "75%    ...     29.984624      5.109543      2.675751     44.093387   \n",
       "max    ...     40.152348     14.180588      6.637265    287.252017   \n",
       "\n",
       "                x56           x57           x58           x59           x60  \\\n",
       "count  18398.000000  18398.000000  18398.000000  18398.000000  18398.000000   \n",
       "mean       9.234953      0.233493     -0.001861     -0.061522      0.001258   \n",
       "std       81.274103      2.326838      0.048732     10.394085      0.004721   \n",
       "min     -269.039500    -12.640370     -0.149790   -100.810500     -0.012229   \n",
       "25%      -45.519149     -1.598804      0.000470      0.295023     -0.001805   \n",
       "50%        1.438806      0.085826      0.012888      0.734591      0.000710   \n",
       "75%       63.209681      2.222118      0.020991      1.266506      0.004087   \n",
       "max      252.147455      6.922008      0.067249      6.985460      0.020510   \n",
       "\n",
       "                y.1  \n",
       "count  18398.000000  \n",
       "mean       0.001033  \n",
       "std        0.032120  \n",
       "min        0.000000  \n",
       "25%        0.000000  \n",
       "50%        0.000000  \n",
       "75%        0.000000  \n",
       "max        1.000000  \n",
       "\n",
       "[8 rows x 61 columns]"
      ]
     },
     "execution_count": 4,
     "metadata": {},
     "output_type": "execute_result"
    }
   ],
   "source": [
    "# 3. Exploratory Data Analysis (EDA):\n",
    "df.describe()"
   ]
  },
  {
   "cell_type": "code",
   "execution_count": 5,
   "id": "2ab2b8bd-fd66-4e62-be34-78896fcf817e",
   "metadata": {},
   "outputs": [
    {
     "data": {
      "image/png": "[encoded data removed]",
      "text/plain": [
       "<Figure size 640x480 with 1 Axes>"
      ]
     },
     "metadata": {},
     "output_type": "display_data"
    }
   ],
   "source": [
    "# 4. Data visualization to check for anomalies:\n",
    "    # Check for class imbalance\n",
    "sns.countplot(x='y', data=df)\n",
    "plt.title('Distribution of Anomalies')\n",
    "plt.show()\n"
   ]
  },
  {
   "cell_type": "code",
   "execution_count": 6,
   "id": "6743acb3-1e8d-4b71-a893-ebbcd41e836b",
   "metadata": {},
   "outputs": [],
   "source": [
    "# 4. Data visualization to check for anomalies:\n",
    "    # Drop non-numeric columns such as 'time' and any redundant columns like 'y.1'\n",
    "df_cleaned = df.drop(columns=['time', 'y.1'])"
   ]
  },
  {
   "cell_type": "code",
   "execution_count": 46,
   "id": "dc45c941-83f5-4fc1-80fe-fbccc7180c1f",
   "metadata": {},
   "outputs": [],
   "source": [
    "# 4. Data visualization to check for anomalies:\n",
    "    # Ensure that only numeric columns are selected\n",
    "numeric_df = df_cleaned.select_dtypes(include=[np.number])"
   ]
  },
  {
   "cell_type": "code",
   "execution_count": 19,
   "id": "18385210-73b4-4502-9759-1dad7f77477b",
   "metadata": {},
   "outputs": [
    {
     "data": {
      "image/png": "[encoded data removed]",
      "text/plain": [
       "<Figure size 1200x800 with 2 Axes>"
      ]
     },
     "metadata": {},
     "output_type": "display_data"
    }
   ],
   "source": [
    "# 4. Data visualization to check for anomalies:\n",
    "    # Plot the correlation heatmap for numeric columns only\n",
    "plt.figure(figsize=(12, 8))\n",
    "sns.heatmap(numeric_df.corr(), cmap='coolwarm', annot=False)\n",
    "plt.title('Correlation Heatmap')\n",
    "plt.show()"
   ]
  },
  {
   "cell_type": "code",
   "execution_count": 20,
   "id": "e59f7a09-364a-4c74-b04d-cff13288d457",
   "metadata": {},
   "outputs": [],
   "source": [
    "# 3. Data Cleaning:\n",
    "    # . Fix the time column datatype:\n",
    "df['time'] = pd.to_datetime(df['time'], format='%m/%d/%y %H:%M')\n"
   ]
  },
  {
   "cell_type": "code",
   "execution_count": 21,
   "id": "14fb7bbf-d4d2-457c-b2a8-2246bca87693",
   "metadata": {},
   "outputs": [
    {
     "data": {
      "text/plain": [
       "time    0\n",
       "y       0\n",
       "x1      0\n",
       "x2      0\n",
       "x3      0\n",
       "       ..\n",
       "x57     0\n",
       "x58     0\n",
       "x59     0\n",
       "x60     0\n",
       "y.1     0\n",
       "Length: 62, dtype: int64"
      ]
     },
     "execution_count": 21,
     "metadata": {},
     "output_type": "execute_result"
    }
   ],
   "source": [
    "# 3. Data Cleaning:\n",
    "    # Handle missing values:\n",
    "        # Checking missing values\n",
    "df.isnull().sum()"
   ]
  },
  {
   "cell_type": "code",
   "execution_count": 23,
   "id": "77a55fc7-9af9-4370-8329-c46c6525fce0",
   "metadata": {},
   "outputs": [],
   "source": [
    "# 3. Data Cleaning:\n",
    "    # Handle missing values:\n",
    "        # Imputing missing values\n",
    "            # Separate numeric and non-numeric columns\n",
    "numeric_columns = df_cleaned.select_dtypes(include=[np.number]).columns\n",
    "non_numeric_columns = df_cleaned.select_dtypes(exclude=[np.number]).columns\n"
   ]
  },
  {
   "cell_type": "code",
   "execution_count": 24,
   "id": "9af08b93-182f-4c39-adaa-48a8f3e5dec2",
   "metadata": {},
   "outputs": [],
   "source": [
    "# 3. Data Cleaning:\n",
    "    # Handle missing values:\n",
    "        # Imputing missing values\n",
    "            # Apply imputation only on numeric columns\n",
    "imputer = SimpleImputer(strategy='mean')\n",
    "df_cleaned[numeric_columns] = imputer.fit_transform(df_cleaned[numeric_columns])"
   ]
  },
  {
   "cell_type": "code",
   "execution_count": 25,
   "id": "38e9b6f3-6e08-4a9a-94b0-91c09ca65cba",
   "metadata": {},
   "outputs": [],
   "source": [
    "# For non-numeric columns, handle as required. For this case, we will leave them as they are.\n",
    "# If 'time' or other non-numeric columns need to be processed, do that here."
   ]
  },
  {
   "cell_type": "code",
   "execution_count": 26,
   "id": "bc65cbd2-3e20-45b2-ab7b-636f4507db2b",
   "metadata": {},
   "outputs": [
    {
     "data": {
      "text/html": [
       "<div>\n",
       "<style scoped>\n",
       "    .dataframe tbody tr th:only-of-type {\n",
       "        vertical-align: middle;\n",
       "    }\n",
       "\n",
       "    .dataframe tbody tr th {\n",
       "        vertical-align: top;\n",
       "    }\n",
       "\n",
       "    .dataframe thead th {\n",
       "        text-align: right;\n",
       "    }\n",
       "</style>\n",
       "<table border=\"1\" class=\"dataframe\">\n",
       "  <thead>\n",
       "    <tr style=\"text-align: right;\">\n",
       "      <th></th>\n",
       "      <th>y</th>\n",
       "      <th>x1</th>\n",
       "      <th>x2</th>\n",
       "      <th>x3</th>\n",
       "      <th>x4</th>\n",
       "      <th>x5</th>\n",
       "      <th>x6</th>\n",
       "      <th>x7</th>\n",
       "      <th>x8</th>\n",
       "      <th>x9</th>\n",
       "      <th>...</th>\n",
       "      <th>x50</th>\n",
       "      <th>x51</th>\n",
       "      <th>x52</th>\n",
       "      <th>x54</th>\n",
       "      <th>x55</th>\n",
       "      <th>x56</th>\n",
       "      <th>x57</th>\n",
       "      <th>x58</th>\n",
       "      <th>x59</th>\n",
       "      <th>x60</th>\n",
       "    </tr>\n",
       "  </thead>\n",
       "  <tbody>\n",
       "    <tr>\n",
       "      <th>0</th>\n",
       "      <td>0.0</td>\n",
       "      <td>0.376665</td>\n",
       "      <td>-4.596435</td>\n",
       "      <td>-4.095756</td>\n",
       "      <td>13.497687</td>\n",
       "      <td>-0.118830</td>\n",
       "      <td>-20.669883</td>\n",
       "      <td>0.000732</td>\n",
       "      <td>-0.061114</td>\n",
       "      <td>-0.059966</td>\n",
       "      <td>...</td>\n",
       "      <td>11.295155</td>\n",
       "      <td>29.984624</td>\n",
       "      <td>10.091721</td>\n",
       "      <td>-4.936434</td>\n",
       "      <td>-24.590146</td>\n",
       "      <td>18.515436</td>\n",
       "      <td>3.473400</td>\n",
       "      <td>0.033444</td>\n",
       "      <td>0.953219</td>\n",
       "      <td>0.006076</td>\n",
       "    </tr>\n",
       "    <tr>\n",
       "      <th>1</th>\n",
       "      <td>0.0</td>\n",
       "      <td>0.475720</td>\n",
       "      <td>-4.542502</td>\n",
       "      <td>-4.018359</td>\n",
       "      <td>16.230659</td>\n",
       "      <td>-0.128733</td>\n",
       "      <td>-18.758079</td>\n",
       "      <td>0.000732</td>\n",
       "      <td>-0.061114</td>\n",
       "      <td>-0.059966</td>\n",
       "      <td>...</td>\n",
       "      <td>11.290761</td>\n",
       "      <td>29.984624</td>\n",
       "      <td>10.095871</td>\n",
       "      <td>-4.937179</td>\n",
       "      <td>-32.413266</td>\n",
       "      <td>22.760065</td>\n",
       "      <td>2.682933</td>\n",
       "      <td>0.033536</td>\n",
       "      <td>1.090502</td>\n",
       "      <td>0.006083</td>\n",
       "    </tr>\n",
       "    <tr>\n",
       "      <th>2</th>\n",
       "      <td>0.0</td>\n",
       "      <td>0.363848</td>\n",
       "      <td>-4.681394</td>\n",
       "      <td>-4.353147</td>\n",
       "      <td>14.127997</td>\n",
       "      <td>-0.138636</td>\n",
       "      <td>-17.836632</td>\n",
       "      <td>0.010803</td>\n",
       "      <td>-0.061114</td>\n",
       "      <td>-0.030057</td>\n",
       "      <td>...</td>\n",
       "      <td>11.286366</td>\n",
       "      <td>29.984624</td>\n",
       "      <td>10.100265</td>\n",
       "      <td>-4.937924</td>\n",
       "      <td>-34.183774</td>\n",
       "      <td>27.004663</td>\n",
       "      <td>3.537487</td>\n",
       "      <td>0.033629</td>\n",
       "      <td>1.840540</td>\n",
       "      <td>0.006090</td>\n",
       "    </tr>\n",
       "    <tr>\n",
       "      <th>3</th>\n",
       "      <td>0.0</td>\n",
       "      <td>0.301590</td>\n",
       "      <td>-4.758934</td>\n",
       "      <td>-4.023612</td>\n",
       "      <td>13.161566</td>\n",
       "      <td>-0.148142</td>\n",
       "      <td>-18.517601</td>\n",
       "      <td>0.002075</td>\n",
       "      <td>-0.061114</td>\n",
       "      <td>-0.019986</td>\n",
       "      <td>...</td>\n",
       "      <td>11.281972</td>\n",
       "      <td>29.984624</td>\n",
       "      <td>10.104660</td>\n",
       "      <td>-4.938669</td>\n",
       "      <td>-35.954281</td>\n",
       "      <td>21.672449</td>\n",
       "      <td>3.986095</td>\n",
       "      <td>0.033721</td>\n",
       "      <td>2.554880</td>\n",
       "      <td>0.006097</td>\n",
       "    </tr>\n",
       "    <tr>\n",
       "      <th>4</th>\n",
       "      <td>0.0</td>\n",
       "      <td>0.265578</td>\n",
       "      <td>-4.749928</td>\n",
       "      <td>-4.333150</td>\n",
       "      <td>15.267340</td>\n",
       "      <td>-0.155314</td>\n",
       "      <td>-17.505913</td>\n",
       "      <td>0.000732</td>\n",
       "      <td>-0.061114</td>\n",
       "      <td>-0.030057</td>\n",
       "      <td>...</td>\n",
       "      <td>11.277577</td>\n",
       "      <td>29.984624</td>\n",
       "      <td>10.109054</td>\n",
       "      <td>-4.939414</td>\n",
       "      <td>-37.724789</td>\n",
       "      <td>21.907251</td>\n",
       "      <td>3.601573</td>\n",
       "      <td>0.033777</td>\n",
       "      <td>1.410494</td>\n",
       "      <td>0.006105</td>\n",
       "    </tr>\n",
       "  </tbody>\n",
       "</table>\n",
       "<p>5 rows × 60 columns</p>\n",
       "</div>"
      ],
      "text/plain": [
       "     y        x1        x2        x3         x4        x5         x6  \\\n",
       "0  0.0  0.376665 -4.596435 -4.095756  13.497687 -0.118830 -20.669883   \n",
       "1  0.0  0.475720 -4.542502 -4.018359  16.230659 -0.128733 -18.758079   \n",
       "2  0.0  0.363848 -4.681394 -4.353147  14.127997 -0.138636 -17.836632   \n",
       "3  0.0  0.301590 -4.758934 -4.023612  13.161566 -0.148142 -18.517601   \n",
       "4  0.0  0.265578 -4.749928 -4.333150  15.267340 -0.155314 -17.505913   \n",
       "\n",
       "         x7        x8        x9  ...        x50        x51        x52  \\\n",
       "0  0.000732 -0.061114 -0.059966  ...  11.295155  29.984624  10.091721   \n",
       "1  0.000732 -0.061114 -0.059966  ...  11.290761  29.984624  10.095871   \n",
       "2  0.010803 -0.061114 -0.030057  ...  11.286366  29.984624  10.100265   \n",
       "3  0.002075 -0.061114 -0.019986  ...  11.281972  29.984624  10.104660   \n",
       "4  0.000732 -0.061114 -0.030057  ...  11.277577  29.984624  10.109054   \n",
       "\n",
       "        x54        x55        x56       x57       x58       x59       x60  \n",
       "0 -4.936434 -24.590146  18.515436  3.473400  0.033444  0.953219  0.006076  \n",
       "1 -4.937179 -32.413266  22.760065  2.682933  0.033536  1.090502  0.006083  \n",
       "2 -4.937924 -34.183774  27.004663  3.537487  0.033629  1.840540  0.006090  \n",
       "3 -4.938669 -35.954281  21.672449  3.986095  0.033721  2.554880  0.006097  \n",
       "4 -4.939414 -37.724789  21.907251  3.601573  0.033777  1.410494  0.006105  \n",
       "\n",
       "[5 rows x 60 columns]"
      ]
     },
     "execution_count": 26,
     "metadata": {},
     "output_type": "execute_result"
    }
   ],
   "source": [
    "# 3. Data Cleaning:\n",
    "    # Handle missing values:\n",
    "        # Imputing missing values\n",
    "            # After imputing missing values, display the result\n",
    "df_cleaned.head()"
   ]
  },
  {
   "cell_type": "code",
   "execution_count": 28,
   "id": "24c9634d-c9d9-4e7c-b108-3e545b749fc5",
   "metadata": {},
   "outputs": [],
   "source": [
    "# 3. Data Cleaning:\n",
    "    # Handle missing values:\n",
    "        # Imputing missing values\n",
    "imputer = SimpleImputer(strategy='mean')\n",
    "df_cleaned[numeric_columns] = imputer.fit_transform(df_cleaned[numeric_columns])\n"
   ]
  },
  {
   "cell_type": "code",
   "execution_count": 29,
   "id": "721d769b-a3bc-452e-9837-9496f4bd8bbd",
   "metadata": {},
   "outputs": [],
   "source": [
    "# 4. Feature Scaling\n",
    "    # Scale the features to ensure they are on the same scale\n",
    "scaler = StandardScaler()\n",
    "X_scaled = pd.DataFrame(scaler.fit_transform(df_cleaned.drop(columns=['y'])), columns=df_cleaned.columns[:-1])"
   ]
  },
  {
   "cell_type": "code",
   "execution_count": 30,
   "id": "f75a07bd-7816-4bb9-abd1-8aa23feccd42",
   "metadata": {},
   "outputs": [],
   "source": [
    "# 5. Train-Test Split\n",
    "X = X_scaled\n",
    "y = df_cleaned['y']"
   ]
  },
  {
   "cell_type": "code",
   "execution_count": 31,
   "id": "6de4d91d-36ed-4893-af9c-2829d7239b4c",
   "metadata": {},
   "outputs": [],
   "source": [
    "# 5. Train-Test Split\n",
    "    # Split the data into training and test sets (80% training, 20% testing)\n",
    "X_train, X_test, y_train, y_test = train_test_split(X, y, test_size=0.2, random_state=42, stratify=y)"
   ]
  },
  {
   "cell_type": "code",
   "execution_count": 32,
   "id": "e027150d-e564-4e19-b36e-6750e9c5315f",
   "metadata": {},
   "outputs": [],
   "source": [
    "# 6. Handle Class Imbalance using SMOTE (Synthetic Minority Over-sampling Technique)\n",
    "smote = SMOTE(random_state=42)\n",
    "X_train_smote, y_train_smote = smote.fit_resample(X_train, y_train)"
   ]
  },
  {
   "cell_type": "code",
   "execution_count": 33,
   "id": "6b04110c-f1ac-46b6-a264-c734bc71d5a2",
   "metadata": {},
   "outputs": [
    {
     "data": {
      "text/html": [
       "<style>#sk-container-id-1 {color: black;background-color: white;}#sk-container-id-1 pre{padding: 0;}#sk-container-id-1 div.sk-toggleable {background-color: white;}#sk-container-id-1 label.sk-toggleable__label {cursor: pointer;display: block;width: 100%;margin-bottom: 0;padding: 0.3em;box-sizing: border-box;text-align: center;}#sk-container-id-1 label.sk-toggleable__label-arrow:before {content: \"▸\";float: left;margin-right: 0.25em;color: #696969;}#sk-container-id-1 label.sk-toggleable__label-arrow:hover:before {color: black;}#sk-container-id-1 div.sk-estimator:hover label.sk-toggleable__label-arrow:before {color: black;}#sk-container-id-1 div.sk-toggleable__content {max-height: 0;max-width: 0;overflow: hidden;text-align: left;background-color: #f0f8ff;}#sk-container-id-1 div.sk-toggleable__content pre {margin: 0.2em;color: black;border-radius: 0.25em;background-color: #f0f8ff;}#sk-container-id-1 input.sk-toggleable__control:checked~div.sk-toggleable__content {max-height: 200px;max-width: 100%;overflow: auto;}#sk-container-id-1 input.sk-toggleable__control:checked~label.sk-toggleable__label-arrow:before {content: \"▾\";}#sk-container-id-1 div.sk-estimator input.sk-toggleable__control:checked~label.sk-toggleable__label {background-color: #d4ebff;}#sk-container-id-1 div.sk-label input.sk-toggleable__control:checked~label.sk-toggleable__label {background-color: #d4ebff;}#sk-container-id-1 input.sk-hidden--visually {border: 0;clip: rect(1px 1px 1px 1px);clip: rect(1px, 1px, 1px, 1px);height: 1px;margin: -1px;overflow: hidden;padding: 0;position: absolute;width: 1px;}#sk-container-id-1 div.sk-estimator {font-family: monospace;background-color: #f0f8ff;border: 1px dotted black;border-radius: 0.25em;box-sizing: border-box;margin-bottom: 0.5em;}#sk-container-id-1 div.sk-estimator:hover {background-color: #d4ebff;}#sk-container-id-1 div.sk-parallel-item::after {content: \"\";width: 100%;border-bottom: 1px solid gray;flex-grow: 1;}#sk-container-id-1 div.sk-label:hover label.sk-toggleable__label {background-color: #d4ebff;}#sk-container-id-1 div.sk-serial::before {content: \"\";position: absolute;border-left: 1px solid gray;box-sizing: border-box;top: 0;bottom: 0;left: 50%;z-index: 0;}#sk-container-id-1 div.sk-serial {display: flex;flex-direction: column;align-items: center;background-color: white;padding-right: 0.2em;padding-left: 0.2em;position: relative;}#sk-container-id-1 div.sk-item {position: relative;z-index: 1;}#sk-container-id-1 div.sk-parallel {display: flex;align-items: stretch;justify-content: center;background-color: white;position: relative;}#sk-container-id-1 div.sk-item::before, #sk-container-id-1 div.sk-parallel-item::before {content: \"\";position: absolute;border-left: 1px solid gray;box-sizing: border-box;top: 0;bottom: 0;left: 50%;z-index: -1;}#sk-container-id-1 div.sk-parallel-item {display: flex;flex-direction: column;z-index: 1;position: relative;background-color: white;}#sk-container-id-1 div.sk-parallel-item:first-child::after {align-self: flex-end;width: 50%;}#sk-container-id-1 div.sk-parallel-item:last-child::after {align-self: flex-start;width: 50%;}#sk-container-id-1 div.sk-parallel-item:only-child::after {width: 0;}#sk-container-id-1 div.sk-dashed-wrapped {border: 1px dashed gray;margin: 0 0.4em 0.5em 0.4em;box-sizing: border-box;padding-bottom: 0.4em;background-color: white;}#sk-container-id-1 div.sk-label label {font-family: monospace;font-weight: bold;display: inline-block;line-height: 1.2em;}#sk-container-id-1 div.sk-label-container {text-align: center;}#sk-container-id-1 div.sk-container {/* jupyter's `normalize.less` sets `[hidden] { display: none; }` but bootstrap.min.css set `[hidden] { display: none !important; }` so we also need the `!important` here to be able to override the default hidden behavior on the sphinx rendered scikit-learn.org. See: https://github.com/scikit-learn/scikit-learn/issues/21755 */display: inline-block !important;position: relative;}#sk-container-id-1 div.sk-text-repr-fallback {display: none;}</style><div id=\"sk-container-id-1\" class=\"sk-top-container\"><div class=\"sk-text-repr-fallback\"><pre>RandomForestClassifier(random_state=42)</pre><b>In a Jupyter environment, please rerun this cell to show the HTML representation or trust the notebook. <br />On GitHub, the HTML representation is unable to render, please try loading this page with nbviewer.org.</b></div><div class=\"sk-container\" hidden><div class=\"sk-item\"><div class=\"sk-estimator sk-toggleable\"><input class=\"sk-toggleable__control sk-hidden--visually\" id=\"sk-estimator-id-1\" type=\"checkbox\" checked><label for=\"sk-estimator-id-1\" class=\"sk-toggleable__label sk-toggleable__label-arrow\">RandomForestClassifier</label><div class=\"sk-toggleable__content\"><pre>RandomForestClassifier(random_state=42)</pre></div></div></div></div></div>"
      ],
      "text/plain": [
       "RandomForestClassifier(random_state=42)"
      ]
     },
     "execution_count": 33,
     "metadata": {},
     "output_type": "execute_result"
    }
   ],
   "source": [
    "# 7. Model Selection and Training\n",
    "    # Using RandomForest Classifier\n",
    "rf = RandomForestClassifier(random_state=42)\n",
    "rf.fit(X_train_smote, y_train_smote)"
   ]
  },
  {
   "cell_type": "code",
   "execution_count": 34,
   "id": "df545464-09cc-44a6-8d11-c2cb1fe28b42",
   "metadata": {},
   "outputs": [],
   "source": [
    "# 8. Predict on the test set\n",
    "y_pred = rf.predict(X_test)"
   ]
  },
  {
   "cell_type": "code",
   "execution_count": 35,
   "id": "948dc29f-ae2a-4817-bf58-71783da17fc2",
   "metadata": {},
   "outputs": [
    {
     "name": "stdout",
     "output_type": "stream",
     "text": [
      "Confusion Matrix:\n",
      "[[3650    5]\n",
      " [  10   15]]\n"
     ]
    }
   ],
   "source": [
    "# 9. Model Evaluation\n",
    "print(\"Confusion Matrix:\")\n",
    "print(confusion_matrix(y_test, y_pred))"
   ]
  },
  {
   "cell_type": "code",
   "execution_count": 36,
   "id": "23ccb03d-9f81-47cb-8037-113687e67187",
   "metadata": {},
   "outputs": [
    {
     "name": "stdout",
     "output_type": "stream",
     "text": [
      "Classification Report:\n",
      "              precision    recall  f1-score   support\n",
      "\n",
      "         0.0       1.00      1.00      1.00      3655\n",
      "         1.0       0.75      0.60      0.67        25\n",
      "\n",
      "    accuracy                           1.00      3680\n",
      "   macro avg       0.87      0.80      0.83      3680\n",
      "weighted avg       1.00      1.00      1.00      3680\n",
      "\n"
     ]
    }
   ],
   "source": [
    "# 9. Model Evaluation\n",
    "print(\"Classification Report:\")\n",
    "print(classification_report(y_test, y_pred))"
   ]
  },
  {
   "cell_type": "code",
   "execution_count": 37,
   "id": "79e5ed65-e5e6-4b0d-acd3-230583757376",
   "metadata": {},
   "outputs": [
    {
     "name": "stdout",
     "output_type": "stream",
     "text": [
      "Accuracy Score: 0.9959239130434783\n"
     ]
    }
   ],
   "source": [
    "# 9. Model Evaluation\n",
    "print(\"Accuracy Score:\", accuracy_score(y_test, y_pred))"
   ]
  },
  {
   "cell_type": "code",
   "execution_count": 38,
   "id": "d8f63ed8-d2e7-4a97-98d7-c3d3b196821b",
   "metadata": {},
   "outputs": [],
   "source": [
    "# 10. Hyperparameter Tuning using GridSearchCV\n",
    "param_grid = {\n",
    "    'n_estimators': [100, 200, 300],\n",
    "    'max_depth': [None, 10, 20, 30],\n",
    "    'min_samples_split': [2, 5, 10]\n",
    "}"
   ]
  },
  {
   "cell_type": "code",
   "execution_count": 39,
   "id": "8f9d6b4a-eddb-46c7-b20b-8d0f87bc24fe",
   "metadata": {},
   "outputs": [
    {
     "data": {
      "text/html": [
       "<style>#sk-container-id-2 {color: black;background-color: white;}#sk-container-id-2 pre{padding: 0;}#sk-container-id-2 div.sk-toggleable {background-color: white;}#sk-container-id-2 label.sk-toggleable__label {cursor: pointer;display: block;width: 100%;margin-bottom: 0;padding: 0.3em;box-sizing: border-box;text-align: center;}#sk-container-id-2 label.sk-toggleable__label-arrow:before {content: \"▸\";float: left;margin-right: 0.25em;color: #696969;}#sk-container-id-2 label.sk-toggleable__label-arrow:hover:before {color: black;}#sk-container-id-2 div.sk-estimator:hover label.sk-toggleable__label-arrow:before {color: black;}#sk-container-id-2 div.sk-toggleable__content {max-height: 0;max-width: 0;overflow: hidden;text-align: left;background-color: #f0f8ff;}#sk-container-id-2 div.sk-toggleable__content pre {margin: 0.2em;color: black;border-radius: 0.25em;background-color: #f0f8ff;}#sk-container-id-2 input.sk-toggleable__control:checked~div.sk-toggleable__content {max-height: 200px;max-width: 100%;overflow: auto;}#sk-container-id-2 input.sk-toggleable__control:checked~label.sk-toggleable__label-arrow:before {content: \"▾\";}#sk-container-id-2 div.sk-estimator input.sk-toggleable__control:checked~label.sk-toggleable__label {background-color: #d4ebff;}#sk-container-id-2 div.sk-label input.sk-toggleable__control:checked~label.sk-toggleable__label {background-color: #d4ebff;}#sk-container-id-2 input.sk-hidden--visually {border: 0;clip: rect(1px 1px 1px 1px);clip: rect(1px, 1px, 1px, 1px);height: 1px;margin: -1px;overflow: hidden;padding: 0;position: absolute;width: 1px;}#sk-container-id-2 div.sk-estimator {font-family: monospace;background-color: #f0f8ff;border: 1px dotted black;border-radius: 0.25em;box-sizing: border-box;margin-bottom: 0.5em;}#sk-container-id-2 div.sk-estimator:hover {background-color: #d4ebff;}#sk-container-id-2 div.sk-parallel-item::after {content: \"\";width: 100%;border-bottom: 1px solid gray;flex-grow: 1;}#sk-container-id-2 div.sk-label:hover label.sk-toggleable__label {background-color: #d4ebff;}#sk-container-id-2 div.sk-serial::before {content: \"\";position: absolute;border-left: 1px solid gray;box-sizing: border-box;top: 0;bottom: 0;left: 50%;z-index: 0;}#sk-container-id-2 div.sk-serial {display: flex;flex-direction: column;align-items: center;background-color: white;padding-right: 0.2em;padding-left: 0.2em;position: relative;}#sk-container-id-2 div.sk-item {position: relative;z-index: 1;}#sk-container-id-2 div.sk-parallel {display: flex;align-items: stretch;justify-content: center;background-color: white;position: relative;}#sk-container-id-2 div.sk-item::before, #sk-container-id-2 div.sk-parallel-item::before {content: \"\";position: absolute;border-left: 1px solid gray;box-sizing: border-box;top: 0;bottom: 0;left: 50%;z-index: -1;}#sk-container-id-2 div.sk-parallel-item {display: flex;flex-direction: column;z-index: 1;position: relative;background-color: white;}#sk-container-id-2 div.sk-parallel-item:first-child::after {align-self: flex-end;width: 50%;}#sk-container-id-2 div.sk-parallel-item:last-child::after {align-self: flex-start;width: 50%;}#sk-container-id-2 div.sk-parallel-item:only-child::after {width: 0;}#sk-container-id-2 div.sk-dashed-wrapped {border: 1px dashed gray;margin: 0 0.4em 0.5em 0.4em;box-sizing: border-box;padding-bottom: 0.4em;background-color: white;}#sk-container-id-2 div.sk-label label {font-family: monospace;font-weight: bold;display: inline-block;line-height: 1.2em;}#sk-container-id-2 div.sk-label-container {text-align: center;}#sk-container-id-2 div.sk-container {/* jupyter's `normalize.less` sets `[hidden] { display: none; }` but bootstrap.min.css set `[hidden] { display: none !important; }` so we also need the `!important` here to be able to override the default hidden behavior on the sphinx rendered scikit-learn.org. See: https://github.com/scikit-learn/scikit-learn/issues/21755 */display: inline-block !important;position: relative;}#sk-container-id-2 div.sk-text-repr-fallback {display: none;}</style><div id=\"sk-container-id-2\" class=\"sk-top-container\"><div class=\"sk-text-repr-fallback\"><pre>GridSearchCV(cv=5, estimator=RandomForestClassifier(random_state=42),\n",
       "             param_grid={&#x27;max_depth&#x27;: [None, 10, 20, 30],\n",
       "                         &#x27;min_samples_split&#x27;: [2, 5, 10],\n",
       "                         &#x27;n_estimators&#x27;: [100, 200, 300]},\n",
       "             scoring=&#x27;accuracy&#x27;)</pre><b>In a Jupyter environment, please rerun this cell to show the HTML representation or trust the notebook. <br />On GitHub, the HTML representation is unable to render, please try loading this page with nbviewer.org.</b></div><div class=\"sk-container\" hidden><div class=\"sk-item sk-dashed-wrapped\"><div class=\"sk-label-container\"><div class=\"sk-label sk-toggleable\"><input class=\"sk-toggleable__control sk-hidden--visually\" id=\"sk-estimator-id-2\" type=\"checkbox\" ><label for=\"sk-estimator-id-2\" class=\"sk-toggleable__label sk-toggleable__label-arrow\">GridSearchCV</label><div class=\"sk-toggleable__content\"><pre>GridSearchCV(cv=5, estimator=RandomForestClassifier(random_state=42),\n",
       "             param_grid={&#x27;max_depth&#x27;: [None, 10, 20, 30],\n",
       "                         &#x27;min_samples_split&#x27;: [2, 5, 10],\n",
       "                         &#x27;n_estimators&#x27;: [100, 200, 300]},\n",
       "             scoring=&#x27;accuracy&#x27;)</pre></div></div></div><div class=\"sk-parallel\"><div class=\"sk-parallel-item\"><div class=\"sk-item\"><div class=\"sk-label-container\"><div class=\"sk-label sk-toggleable\"><input class=\"sk-toggleable__control sk-hidden--visually\" id=\"sk-estimator-id-3\" type=\"checkbox\" ><label for=\"sk-estimator-id-3\" class=\"sk-toggleable__label sk-toggleable__label-arrow\">estimator: RandomForestClassifier</label><div class=\"sk-toggleable__content\"><pre>RandomForestClassifier(random_state=42)</pre></div></div></div><div class=\"sk-serial\"><div class=\"sk-item\"><div class=\"sk-estimator sk-toggleable\"><input class=\"sk-toggleable__control sk-hidden--visually\" id=\"sk-estimator-id-4\" type=\"checkbox\" ><label for=\"sk-estimator-id-4\" class=\"sk-toggleable__label sk-toggleable__label-arrow\">RandomForestClassifier</label><div class=\"sk-toggleable__content\"><pre>RandomForestClassifier(random_state=42)</pre></div></div></div></div></div></div></div></div></div></div>"
      ],
      "text/plain": [
       "GridSearchCV(cv=5, estimator=RandomForestClassifier(random_state=42),\n",
       "             param_grid={'max_depth': [None, 10, 20, 30],\n",
       "                         'min_samples_split': [2, 5, 10],\n",
       "                         'n_estimators': [100, 200, 300]},\n",
       "             scoring='accuracy')"
      ]
     },
     "execution_count": 39,
     "metadata": {},
     "output_type": "execute_result"
    }
   ],
   "source": [
    "# 10. Hyperparameter Tuning using GridSearchCV\n",
    "grid_search = GridSearchCV(RandomForestClassifier(random_state=42), param_grid, cv=5, scoring='accuracy')\n",
    "grid_search.fit(X_train_smote, y_train_smote)\n"
   ]
  },
  {
   "cell_type": "code",
   "execution_count": 40,
   "id": "b969dbf9-dc23-429b-ae8b-e35c696607a9",
   "metadata": {},
   "outputs": [
    {
     "name": "stdout",
     "output_type": "stream",
     "text": [
      "Best parameters found by GridSearchCV: {'max_depth': None, 'min_samples_split': 2, 'n_estimators': 300}\n"
     ]
    }
   ],
   "source": [
    "# 10. Hyperparameter Tuning using GridSearchCV\n",
    "    # Best model parameters\n",
    "print('Best parameters found by GridSearchCV:', grid_search.best_params_)"
   ]
  },
  {
   "cell_type": "code",
   "execution_count": 42,
   "id": "f0bd45ac-da20-4c22-a02c-1833a9691c3b",
   "metadata": {},
   "outputs": [
    {
     "data": {
      "text/plain": [
       "['anomaly_detection_model.pkl']"
      ]
     },
     "execution_count": 42,
     "metadata": {},
     "output_type": "execute_result"
    }
   ],
   "source": [
    "# 11. Model Deployment (Saving the model)\n",
    "    # Save the best model for future use\n",
    "import joblib\n",
    "\n",
    "best_rf_model = grid_search.best_estimator_\n",
    "joblib.dump(best_rf_model, 'anomaly_detection_model.pkl')"
   ]
  },
  {
   "cell_type": "code",
   "execution_count": 43,
   "id": "1ebfb5b8-ce1e-4128-9849-b5189fdbe072",
   "metadata": {},
   "outputs": [
    {
     "name": "stdout",
     "output_type": "stream",
     "text": [
      "Model saved as 'anomaly_detection_model.pkl'.\n"
     ]
    }
   ],
   "source": [
    "# 11. Model Deployment (Saving the model)\n",
    "\n",
    "print(\"Model saved as 'anomaly_detection_model.pkl'.\")\n"
   ]
  },
  {
   "cell_type": "code",
   "execution_count": null,
   "id": "f0988f9d-88f9-4438-84a7-d93788f129e3",
   "metadata": {},
   "outputs": [],
   "source": []
  }
 ],
 "metadata": {
  "kernelspec": {
   "display_name": "Python 3 (ipykernel)",
   "language": "python",
   "name": "python3"
  },
  "language_info": {
   "codemirror_mode": {
    "name": "ipython",
    "version": 3
   },
   "file_extension": ".py",
   "mimetype": "text/x-python",
   "name": "python",
   "nbconvert_exporter": "python",
   "pygments_lexer": "ipython3",
   "version": "3.11.7"
  }
 },
 "nbformat": 4,
 "nbformat_minor": 5
}
